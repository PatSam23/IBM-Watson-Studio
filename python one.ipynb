{
    "cells": [
        {
            "cell_type": "markdown",
            "metadata": {
                "collapsed": true
            },
            "source": "# My Jupyter Notebook on IBM Watson Studio"
        },
        {
            "cell_type": "markdown",
            "metadata": {},
            "source": "**Samarth Vaibhav Pathak**\n<br>Data Scientist"
        },
        {
            "cell_type": "markdown",
            "metadata": {},
            "source": "_I am interested in data science because data scientists possess a variety of skill sets that can leverage data and information. That further helps companies to make better strategic decisions. There are many exciting new fields that are emerging within data science such as Artificial Intelligence (AI), Machine Learning (ML), Big Data._"
        },
        {
            "cell_type": "markdown",
            "metadata": {},
            "source": "### My code in cell number 5 prints fibonacci numbers "
        },
        {
            "cell_type": "code",
            "execution_count": 12,
            "metadata": {},
            "outputs": [
                {
                    "name": "stdout",
                    "output_type": "stream",
                    "text": "2\n"
                }
            ],
            "source": "def Fibonacci(n):\n\tif n < 0:\n\t\tprint(\"Incorrect input\")\n\n\telif n == 0:\n\t\treturn 0\n\n\telif n == 1 or n == 2:\n\t\treturn 1\n\n\telse:\n\t\treturn Fibonacci(n-1) + Fibonacci(n-2)\n\nprint(Fibonacci(3))"
        },
        {
            "cell_type": "markdown",
            "metadata": {},
            "source": "- First item\n- Second item\n- Third item\n\n![Tree](tree-736885__480.jpg)\n\n> something\n\n1. List item one\n2. List item two\n3. List item three\n\n`text with grey background`\n<br>\n[Wikipedia](https://www.wikipedia.com)"
        }
    ],
    "metadata": {
        "kernelspec": {
            "display_name": "Python 3.10",
            "language": "python",
            "name": "python3"
        },
        "language_info": {
            "codemirror_mode": {
                "name": "ipython",
                "version": 3
            },
            "file_extension": ".py",
            "mimetype": "text/x-python",
            "name": "python",
            "nbconvert_exporter": "python",
            "pygments_lexer": "ipython3",
            "version": "3.10.6"
        }
    },
    "nbformat": 4,
    "nbformat_minor": 1
}